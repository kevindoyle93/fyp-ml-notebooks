{
 "cells": [
  {
   "cell_type": "markdown",
   "metadata": {
    "deletable": true,
    "editable": true
   },
   "source": [
    "## Import Pandas and the classifiers to experiment with"
   ]
  },
  {
   "cell_type": "code",
   "execution_count": 1,
   "metadata": {
    "collapsed": false,
    "deletable": true,
    "editable": true
   },
   "outputs": [],
   "source": [
    "import pandas as pd\n",
    "\n",
    "from sklearn.tree import DecisionTreeClassifier\n",
    "from sklearn.ensemble import RandomForestClassifier\n",
    "from sklearn.ensemble import GradientBoostingClassifier\n",
    "from sklearn.svm import SVC\n",
    "from sklearn.linear_model import SGDClassifier\n",
    "from sklearn.neural_network import MLPClassifier\n",
    "from sklearn.linear_model import LogisticRegression\n",
    "from sklearn.model_selection import cross_val_score"
   ]
  },
  {
   "cell_type": "markdown",
   "metadata": {
    "collapsed": true,
    "deletable": true,
    "editable": true
   },
   "source": [
    "## Evaluate models on test data"
   ]
  },
  {
   "cell_type": "code",
   "execution_count": 4,
   "metadata": {
    "collapsed": false,
    "deletable": true,
    "editable": true
   },
   "outputs": [],
   "source": [
    "from sklearn import metrics\n",
    "\n",
    "def evaluate_model(model, row_name, training_file):\n",
    "    training_df = pd.read_csv(training_file, index_col=0)\n",
    "\n",
    "    target_feature = 'won_match'\n",
    "    training_columns = [col for col in training_df.columns if col != target_feature]\n",
    "\n",
    "    misclassification =  1 - cross_val_score(\n",
    "        model, training_df[training_columns], training_df[target_feature], scoring='accuracy', cv=10\n",
    "    ).mean()\n",
    "    recall = cross_val_score(\n",
    "        model, training_df[training_columns], training_df[target_feature], scoring='recall', cv=10\n",
    "    ).mean()\n",
    "    precision = cross_val_score(\n",
    "        model, training_df[training_columns], training_df[target_feature], scoring='precision', cv=10\n",
    "    ).mean()\n",
    "    f1 = cross_val_score(\n",
    "        model, training_df[training_columns], training_df[target_feature], scoring='f1', cv=10\n",
    "    ).mean()\n",
    "    \n",
    "    return [\n",
    "        row_name,\n",
    "        misclassification,\n",
    "        recall,\n",
    "        precision,\n",
    "        f1,\n",
    "    ]\n",
    "\n",
    "\n",
    "def evaluate_model_by_season(model):\n",
    "    data= [\n",
    "        evaluate_model(model, '2012/13', 'data/2012-2013.csv'),\n",
    "        evaluate_model(model, '2013/14', 'data/2013-2014.csv'),\n",
    "        evaluate_model(model, '2014/15', 'data/2014-2015.csv'),\n",
    "        evaluate_model(model, '2015/16', 'data/2015-2016.csv'),\n",
    "    ]\n",
    "    \n",
    "    return pd.DataFrame(data, columns=[\n",
    "            'Season', \n",
    "            'Misclassification', \n",
    "            'Recall', \n",
    "            'Precision', \n",
    "            'F1',\n",
    "        ])"
   ]
  },
  {
   "cell_type": "markdown",
   "metadata": {},
   "source": [
    "### Logistic Regression"
   ]
  },
  {
   "cell_type": "code",
   "execution_count": 5,
   "metadata": {
    "collapsed": false,
    "deletable": true,
    "editable": true
   },
   "outputs": [
    {
     "data": {
      "text/html": [
       "<div>\n",
       "<table border=\"1\" class=\"dataframe\">\n",
       "  <thead>\n",
       "    <tr style=\"text-align: right;\">\n",
       "      <th></th>\n",
       "      <th>Season</th>\n",
       "      <th>Misclassification</th>\n",
       "      <th>Recall</th>\n",
       "      <th>Precision</th>\n",
       "      <th>F1</th>\n",
       "    </tr>\n",
       "  </thead>\n",
       "  <tbody>\n",
       "    <tr>\n",
       "      <th>0</th>\n",
       "      <td>2012/13</td>\n",
       "      <td>0.210325</td>\n",
       "      <td>0.651209</td>\n",
       "      <td>0.747915</td>\n",
       "      <td>0.694524</td>\n",
       "    </tr>\n",
       "    <tr>\n",
       "      <th>1</th>\n",
       "      <td>2013/14</td>\n",
       "      <td>0.180101</td>\n",
       "      <td>0.716418</td>\n",
       "      <td>0.794463</td>\n",
       "      <td>0.752941</td>\n",
       "    </tr>\n",
       "    <tr>\n",
       "      <th>2</th>\n",
       "      <td>2014/15</td>\n",
       "      <td>0.187747</td>\n",
       "      <td>0.694081</td>\n",
       "      <td>0.775789</td>\n",
       "      <td>0.732477</td>\n",
       "    </tr>\n",
       "    <tr>\n",
       "      <th>3</th>\n",
       "      <td>2015/16</td>\n",
       "      <td>0.194222</td>\n",
       "      <td>0.686926</td>\n",
       "      <td>0.766362</td>\n",
       "      <td>0.723397</td>\n",
       "    </tr>\n",
       "  </tbody>\n",
       "</table>\n",
       "</div>"
      ],
      "text/plain": [
       "    Season  Misclassification    Recall  Precision        F1\n",
       "0  2012/13           0.210325  0.651209   0.747915  0.694524\n",
       "1  2013/14           0.180101  0.716418   0.794463  0.752941\n",
       "2  2014/15           0.187747  0.694081   0.775789  0.732477\n",
       "3  2015/16           0.194222  0.686926   0.766362  0.723397"
      ]
     },
     "execution_count": 5,
     "metadata": {},
     "output_type": "execute_result"
    }
   ],
   "source": [
    "evaluate_model_by_season(LogisticRegression(solver='lbfgs'))"
   ]
  },
  {
   "cell_type": "markdown",
   "metadata": {},
   "source": [
    "### Gradient Boosting"
   ]
  },
  {
   "cell_type": "code",
   "execution_count": 6,
   "metadata": {
    "collapsed": false,
    "deletable": true,
    "editable": true
   },
   "outputs": [
    {
     "data": {
      "text/html": [
       "<div>\n",
       "<table border=\"1\" class=\"dataframe\">\n",
       "  <thead>\n",
       "    <tr style=\"text-align: right;\">\n",
       "      <th></th>\n",
       "      <th>Season</th>\n",
       "      <th>Misclassification</th>\n",
       "      <th>Recall</th>\n",
       "      <th>Precision</th>\n",
       "      <th>F1</th>\n",
       "    </tr>\n",
       "  </thead>\n",
       "  <tbody>\n",
       "    <tr>\n",
       "      <th>0</th>\n",
       "      <td>2012/13</td>\n",
       "      <td>0.214244</td>\n",
       "      <td>0.643189</td>\n",
       "      <td>0.742402</td>\n",
       "      <td>0.687313</td>\n",
       "    </tr>\n",
       "    <tr>\n",
       "      <th>1</th>\n",
       "      <td>2013/14</td>\n",
       "      <td>0.188679</td>\n",
       "      <td>0.696269</td>\n",
       "      <td>0.787931</td>\n",
       "      <td>0.740448</td>\n",
       "    </tr>\n",
       "    <tr>\n",
       "      <th>2</th>\n",
       "      <td>2014/15</td>\n",
       "      <td>0.193164</td>\n",
       "      <td>0.665637</td>\n",
       "      <td>0.781217</td>\n",
       "      <td>0.718521</td>\n",
       "    </tr>\n",
       "    <tr>\n",
       "      <th>3</th>\n",
       "      <td>2015/16</td>\n",
       "      <td>0.201913</td>\n",
       "      <td>0.676534</td>\n",
       "      <td>0.754464</td>\n",
       "      <td>0.712734</td>\n",
       "    </tr>\n",
       "  </tbody>\n",
       "</table>\n",
       "</div>"
      ],
      "text/plain": [
       "    Season  Misclassification    Recall  Precision        F1\n",
       "0  2012/13           0.214244  0.643189   0.742402  0.687313\n",
       "1  2013/14           0.188679  0.696269   0.787931  0.740448\n",
       "2  2014/15           0.193164  0.665637   0.781217  0.718521\n",
       "3  2015/16           0.201913  0.676534   0.754464  0.712734"
      ]
     },
     "execution_count": 6,
     "metadata": {},
     "output_type": "execute_result"
    }
   ],
   "source": [
    "evaluate_model_by_season(GradientBoostingClassifier(n_estimators=55, learning_rate=0.1))"
   ]
  },
  {
   "cell_type": "markdown",
   "metadata": {},
   "source": [
    "### Random Forest"
   ]
  },
  {
   "cell_type": "code",
   "execution_count": 7,
   "metadata": {
    "collapsed": false,
    "deletable": true,
    "editable": true
   },
   "outputs": [
    {
     "data": {
      "text/html": [
       "<div>\n",
       "<table border=\"1\" class=\"dataframe\">\n",
       "  <thead>\n",
       "    <tr style=\"text-align: right;\">\n",
       "      <th></th>\n",
       "      <th>Season</th>\n",
       "      <th>Misclassification</th>\n",
       "      <th>Recall</th>\n",
       "      <th>Precision</th>\n",
       "      <th>F1</th>\n",
       "    </tr>\n",
       "  </thead>\n",
       "  <tbody>\n",
       "    <tr>\n",
       "      <th>0</th>\n",
       "      <td>2012/13</td>\n",
       "      <td>0.234496</td>\n",
       "      <td>0.568750</td>\n",
       "      <td>0.741409</td>\n",
       "      <td>0.644698</td>\n",
       "    </tr>\n",
       "    <tr>\n",
       "      <th>1</th>\n",
       "      <td>2013/14</td>\n",
       "      <td>0.205839</td>\n",
       "      <td>0.639552</td>\n",
       "      <td>0.766519</td>\n",
       "      <td>0.708187</td>\n",
       "    </tr>\n",
       "    <tr>\n",
       "      <th>2</th>\n",
       "      <td>2014/15</td>\n",
       "      <td>0.220221</td>\n",
       "      <td>0.614157</td>\n",
       "      <td>0.756675</td>\n",
       "      <td>0.681297</td>\n",
       "    </tr>\n",
       "    <tr>\n",
       "      <th>3</th>\n",
       "      <td>2015/16</td>\n",
       "      <td>0.230485</td>\n",
       "      <td>0.598657</td>\n",
       "      <td>0.729701</td>\n",
       "      <td>0.648354</td>\n",
       "    </tr>\n",
       "  </tbody>\n",
       "</table>\n",
       "</div>"
      ],
      "text/plain": [
       "    Season  Misclassification    Recall  Precision        F1\n",
       "0  2012/13           0.234496  0.568750   0.741409  0.644698\n",
       "1  2013/14           0.205839  0.639552   0.766519  0.708187\n",
       "2  2014/15           0.220221  0.614157   0.756675  0.681297\n",
       "3  2015/16           0.230485  0.598657   0.729701  0.648354"
      ]
     },
     "execution_count": 7,
     "metadata": {},
     "output_type": "execute_result"
    }
   ],
   "source": [
    "evaluate_model_by_season(RandomForestClassifier())"
   ]
  },
  {
   "cell_type": "markdown",
   "metadata": {},
   "source": [
    "### Random Forest"
   ]
  },
  {
   "cell_type": "code",
   "execution_count": 8,
   "metadata": {
    "collapsed": false,
    "deletable": true,
    "editable": true
   },
   "outputs": [
    {
     "data": {
      "text/html": [
       "<div>\n",
       "<table border=\"1\" class=\"dataframe\">\n",
       "  <thead>\n",
       "    <tr style=\"text-align: right;\">\n",
       "      <th></th>\n",
       "      <th>Season</th>\n",
       "      <th>Misclassification</th>\n",
       "      <th>Recall</th>\n",
       "      <th>Precision</th>\n",
       "      <th>F1</th>\n",
       "    </tr>\n",
       "  </thead>\n",
       "  <tbody>\n",
       "    <tr>\n",
       "      <th>0</th>\n",
       "      <td>2012/13</td>\n",
       "      <td>0.305357</td>\n",
       "      <td>0.602449</td>\n",
       "      <td>0.585126</td>\n",
       "      <td>0.588298</td>\n",
       "    </tr>\n",
       "    <tr>\n",
       "      <th>1</th>\n",
       "      <td>2013/14</td>\n",
       "      <td>0.257293</td>\n",
       "      <td>0.653731</td>\n",
       "      <td>0.658147</td>\n",
       "      <td>0.656145</td>\n",
       "    </tr>\n",
       "    <tr>\n",
       "      <th>2</th>\n",
       "      <td>2014/15</td>\n",
       "      <td>0.280913</td>\n",
       "      <td>0.635696</td>\n",
       "      <td>0.618415</td>\n",
       "      <td>0.629134</td>\n",
       "    </tr>\n",
       "    <tr>\n",
       "      <th>3</th>\n",
       "      <td>2015/16</td>\n",
       "      <td>0.275535</td>\n",
       "      <td>0.606827</td>\n",
       "      <td>0.628975</td>\n",
       "      <td>0.626158</td>\n",
       "    </tr>\n",
       "  </tbody>\n",
       "</table>\n",
       "</div>"
      ],
      "text/plain": [
       "    Season  Misclassification    Recall  Precision        F1\n",
       "0  2012/13           0.305357  0.602449   0.585126  0.588298\n",
       "1  2013/14           0.257293  0.653731   0.658147  0.656145\n",
       "2  2014/15           0.280913  0.635696   0.618415  0.629134\n",
       "3  2015/16           0.275535  0.606827   0.628975  0.626158"
      ]
     },
     "execution_count": 8,
     "metadata": {},
     "output_type": "execute_result"
    }
   ],
   "source": [
    "evaluate_model_by_season(DecisionTreeClassifier())"
   ]
  },
  {
   "cell_type": "markdown",
   "metadata": {},
   "source": [
    "### Support Vector Machine"
   ]
  },
  {
   "cell_type": "code",
   "execution_count": 6,
   "metadata": {
    "collapsed": false,
    "deletable": true,
    "editable": true
   },
   "outputs": [
    {
     "data": {
      "text/html": [
       "<div>\n",
       "<table border=\"1\" class=\"dataframe\">\n",
       "  <thead>\n",
       "    <tr style=\"text-align: right;\">\n",
       "      <th></th>\n",
       "      <th>Season</th>\n",
       "      <th>Misclassification</th>\n",
       "      <th>Recall</th>\n",
       "      <th>Precision</th>\n",
       "      <th>F1</th>\n",
       "      <th>TPR</th>\n",
       "      <th>FPR</th>\n",
       "      <th>TNR</th>\n",
       "      <th>FNR</th>\n",
       "    </tr>\n",
       "  </thead>\n",
       "  <tbody>\n",
       "    <tr>\n",
       "      <th>0</th>\n",
       "      <td>2012/13</td>\n",
       "      <td>0.229508</td>\n",
       "      <td>0.762781</td>\n",
       "      <td>0.574730</td>\n",
       "      <td>0.655536</td>\n",
       "      <td>0.762781</td>\n",
       "      <td>0.226415</td>\n",
       "      <td>0.773585</td>\n",
       "      <td>0.237219</td>\n",
       "    </tr>\n",
       "    <tr>\n",
       "      <th>1</th>\n",
       "      <td>2013/14</td>\n",
       "      <td>0.196721</td>\n",
       "      <td>0.780969</td>\n",
       "      <td>0.670262</td>\n",
       "      <td>0.721393</td>\n",
       "      <td>0.780969</td>\n",
       "      <td>0.185925</td>\n",
       "      <td>0.814075</td>\n",
       "      <td>0.219031</td>\n",
       "    </tr>\n",
       "    <tr>\n",
       "      <th>2</th>\n",
       "      <td>2014/15</td>\n",
       "      <td>0.235948</td>\n",
       "      <td>0.752049</td>\n",
       "      <td>0.565485</td>\n",
       "      <td>0.645558</td>\n",
       "      <td>0.752049</td>\n",
       "      <td>0.231148</td>\n",
       "      <td>0.768852</td>\n",
       "      <td>0.247951</td>\n",
       "    </tr>\n",
       "    <tr>\n",
       "      <th>3</th>\n",
       "      <td>2015/16</td>\n",
       "      <td>0.235948</td>\n",
       "      <td>0.752049</td>\n",
       "      <td>0.565485</td>\n",
       "      <td>0.645558</td>\n",
       "      <td>0.752049</td>\n",
       "      <td>0.231148</td>\n",
       "      <td>0.768852</td>\n",
       "      <td>0.247951</td>\n",
       "    </tr>\n",
       "  </tbody>\n",
       "</table>\n",
       "</div>"
      ],
      "text/plain": [
       "    Season  Misclassification    Recall  Precision        F1       TPR  \\\n",
       "0  2012/13           0.229508  0.762781   0.574730  0.655536  0.762781   \n",
       "1  2013/14           0.196721  0.780969   0.670262  0.721393  0.780969   \n",
       "2  2014/15           0.235948  0.752049   0.565485  0.645558  0.752049   \n",
       "3  2015/16           0.235948  0.752049   0.565485  0.645558  0.752049   \n",
       "\n",
       "        FPR       TNR       FNR  \n",
       "0  0.226415  0.773585  0.237219  \n",
       "1  0.185925  0.814075  0.219031  \n",
       "2  0.231148  0.768852  0.247951  \n",
       "3  0.231148  0.768852  0.247951  "
      ]
     },
     "execution_count": 6,
     "metadata": {},
     "output_type": "execute_result"
    }
   ],
   "source": [
    "evaluate_model_by_season(SVC(kernel='linear'))"
   ]
  },
  {
   "cell_type": "markdown",
   "metadata": {},
   "source": [
    "### Stochastic Gradient Descent"
   ]
  },
  {
   "cell_type": "code",
   "execution_count": 9,
   "metadata": {
    "collapsed": false,
    "deletable": true,
    "editable": true
   },
   "outputs": [
    {
     "data": {
      "text/html": [
       "<div>\n",
       "<table border=\"1\" class=\"dataframe\">\n",
       "  <thead>\n",
       "    <tr style=\"text-align: right;\">\n",
       "      <th></th>\n",
       "      <th>Season</th>\n",
       "      <th>Misclassification</th>\n",
       "      <th>Recall</th>\n",
       "      <th>Precision</th>\n",
       "      <th>F1</th>\n",
       "    </tr>\n",
       "  </thead>\n",
       "  <tbody>\n",
       "    <tr>\n",
       "      <th>0</th>\n",
       "      <td>2012/13</td>\n",
       "      <td>0.304674</td>\n",
       "      <td>0.365242</td>\n",
       "      <td>0.688457</td>\n",
       "      <td>0.620947</td>\n",
       "    </tr>\n",
       "    <tr>\n",
       "      <th>1</th>\n",
       "      <td>2013/14</td>\n",
       "      <td>0.281879</td>\n",
       "      <td>0.708209</td>\n",
       "      <td>0.739534</td>\n",
       "      <td>0.630904</td>\n",
       "    </tr>\n",
       "    <tr>\n",
       "      <th>2</th>\n",
       "      <td>2014/15</td>\n",
       "      <td>0.325085</td>\n",
       "      <td>0.822413</td>\n",
       "      <td>0.783632</td>\n",
       "      <td>0.581389</td>\n",
       "    </tr>\n",
       "    <tr>\n",
       "      <th>3</th>\n",
       "      <td>2015/16</td>\n",
       "      <td>0.245066</td>\n",
       "      <td>0.466048</td>\n",
       "      <td>0.737310</td>\n",
       "      <td>0.515083</td>\n",
       "    </tr>\n",
       "  </tbody>\n",
       "</table>\n",
       "</div>"
      ],
      "text/plain": [
       "    Season  Misclassification    Recall  Precision        F1\n",
       "0  2012/13           0.304674  0.365242   0.688457  0.620947\n",
       "1  2013/14           0.281879  0.708209   0.739534  0.630904\n",
       "2  2014/15           0.325085  0.822413   0.783632  0.581389\n",
       "3  2015/16           0.245066  0.466048   0.737310  0.515083"
      ]
     },
     "execution_count": 9,
     "metadata": {},
     "output_type": "execute_result"
    }
   ],
   "source": [
    "evaluate_model_by_season(SGDClassifier(loss='log'))"
   ]
  },
  {
   "cell_type": "markdown",
   "metadata": {},
   "source": [
    "### Multi-layer Perceptron"
   ]
  },
  {
   "cell_type": "code",
   "execution_count": 10,
   "metadata": {
    "collapsed": false,
    "deletable": true,
    "editable": true
   },
   "outputs": [
    {
     "data": {
      "text/html": [
       "<div>\n",
       "<table border=\"1\" class=\"dataframe\">\n",
       "  <thead>\n",
       "    <tr style=\"text-align: right;\">\n",
       "      <th></th>\n",
       "      <th>Season</th>\n",
       "      <th>Misclassification</th>\n",
       "      <th>Recall</th>\n",
       "      <th>Precision</th>\n",
       "      <th>F1</th>\n",
       "    </tr>\n",
       "  </thead>\n",
       "  <tbody>\n",
       "    <tr>\n",
       "      <th>0</th>\n",
       "      <td>2012/13</td>\n",
       "      <td>0.214915</td>\n",
       "      <td>0.677987</td>\n",
       "      <td>0.764227</td>\n",
       "      <td>0.685281</td>\n",
       "    </tr>\n",
       "    <tr>\n",
       "      <th>1</th>\n",
       "      <td>2013/14</td>\n",
       "      <td>0.181235</td>\n",
       "      <td>0.716418</td>\n",
       "      <td>0.783967</td>\n",
       "      <td>0.743967</td>\n",
       "    </tr>\n",
       "    <tr>\n",
       "      <th>2</th>\n",
       "      <td>2014/15</td>\n",
       "      <td>0.192872</td>\n",
       "      <td>0.710182</td>\n",
       "      <td>0.790251</td>\n",
       "      <td>0.726470</td>\n",
       "    </tr>\n",
       "    <tr>\n",
       "      <th>3</th>\n",
       "      <td>2015/16</td>\n",
       "      <td>0.195599</td>\n",
       "      <td>0.689132</td>\n",
       "      <td>0.760986</td>\n",
       "      <td>0.710399</td>\n",
       "    </tr>\n",
       "  </tbody>\n",
       "</table>\n",
       "</div>"
      ],
      "text/plain": [
       "    Season  Misclassification    Recall  Precision        F1\n",
       "0  2012/13           0.214915  0.677987   0.764227  0.685281\n",
       "1  2013/14           0.181235  0.716418   0.783967  0.743967\n",
       "2  2014/15           0.192872  0.710182   0.790251  0.726470\n",
       "3  2015/16           0.195599  0.689132   0.760986  0.710399"
      ]
     },
     "execution_count": 10,
     "metadata": {},
     "output_type": "execute_result"
    }
   ],
   "source": [
    "evaluate_model_by_season(MLPClassifier())"
   ]
  }
 ],
 "metadata": {
  "anaconda-cloud": {},
  "kernelspec": {
   "display_name": "Python 3",
   "language": "python",
   "name": "python3"
  },
  "language_info": {
   "codemirror_mode": {
    "name": "ipython",
    "version": 3
   },
   "file_extension": ".py",
   "mimetype": "text/x-python",
   "name": "python",
   "nbconvert_exporter": "python",
   "pygments_lexer": "ipython3",
   "version": "3.4.3"
  }
 },
 "nbformat": 4,
 "nbformat_minor": 1
}
