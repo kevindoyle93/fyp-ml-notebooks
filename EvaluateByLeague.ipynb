{
 "cells": [
  {
   "cell_type": "markdown",
   "metadata": {
    "deletable": true,
    "editable": true
   },
   "source": [
    "## Import Pandas and the classifiers to experiment with"
   ]
  },
  {
   "cell_type": "code",
   "execution_count": null,
   "metadata": {
    "collapsed": false,
    "deletable": true,
    "editable": true
   },
   "outputs": [],
   "source": [
    "import pandas as pd\n",
    "\n",
    "from sklearn.tree import DecisionTreeClassifier\n",
    "from sklearn.ensemble import RandomForestClassifier\n",
    "from sklearn.ensemble import GradientBoostingClassifier\n",
    "from sklearn.svm import SVC\n",
    "from sklearn.linear_model import SGDClassifier\n",
    "from sklearn.neural_network import MLPClassifier\n",
    "from sklearn.linear_model import LogisticRegression"
   ]
  },
  {
   "cell_type": "markdown",
   "metadata": {
    "collapsed": true,
    "deletable": true,
    "editable": true
   },
   "source": [
    "## Evaluate models on test data"
   ]
  },
  {
   "cell_type": "code",
   "execution_count": null,
   "metadata": {
    "collapsed": false,
    "deletable": true,
    "editable": true
   },
   "outputs": [],
   "source": [
    "from sklearn import metrics\n",
    "\n",
    "def evaluate_model(model, row_name, training_file, test_file):\n",
    "    training_df = pd.read_csv(training_file, index_col=0)\n",
    "    test_df = pd.read_csv(test_file, index_col=0)\n",
    "\n",
    "    target_feature = 'won_match'\n",
    "    training_columns = [col for col in training_df.columns if col != target_feature]\n",
    "\n",
    "    model.fit(training_df[training_columns], training_df[target_feature])\n",
    "    predictions = model.predict(test_df[training_columns])\n",
    "    \n",
    "    misclassification = 1 - metrics.accuracy_score(predictions, test_df[target_feature])\n",
    "    recall = metrics.recall_score(predictions, test_df[target_feature])\n",
    "    precision = metrics.precision_score(predictions, test_df[target_feature])\n",
    "    f1 = metrics.f1_score(predictions, test_df[target_feature])\n",
    "    \n",
    "    confusion_matrix = metrics.confusion_matrix(predictions, test_df[target_feature])\n",
    "    true_positives = confusion_matrix[1][1]\n",
    "    true_negatives = confusion_matrix[0][0]\n",
    "    false_positives = confusion_matrix[0][1]\n",
    "    false_negatives = confusion_matrix[1][0]\n",
    "    true_positive_rate = true_positives / (true_positives + false_negatives)\n",
    "    true_negative_rate = true_negatives / (true_negatives + false_positives)\n",
    "    false_positive_rate = false_positives / (true_negatives + false_positives)\n",
    "    false_negative_rate = false_negatives / (true_positives + false_negatives)\n",
    "    \n",
    "    return [\n",
    "        row_name,\n",
    "        misclassification,\n",
    "        recall,\n",
    "        precision,\n",
    "        f1,\n",
    "        true_positive_rate,\n",
    "        false_positive_rate,\n",
    "        true_negative_rate,\n",
    "        false_negative_rate,\n",
    "    ]\n",
    "\n",
    "\n",
    "def evaluate_model_by_league(model):\n",
    "    data= [\n",
    "        evaluate_model(model, 'Premier League', 'data/premier_league.csv', 'data/test_premier_league.csv'),\n",
    "        evaluate_model(model, 'Premier League - Base', 'data/individual_teams.csv', 'data/test_premier_league.csv'),\n",
    "        evaluate_model(model, 'Bundesliga', 'data/bundesliga.csv', 'data/test_bundesliga.csv'),\n",
    "        evaluate_model(model, 'Bundesliga - Base', 'data/individual_teams.csv', 'data/test_bundesliga.csv'),\n",
    "        evaluate_model(model, 'La Liga', 'data/la_liga.csv', 'data/test_la_liga.csv'),\n",
    "        evaluate_model(model, 'La Liga - Base', 'data/individual_teams.csv', 'data/test_la_liga.csv'),\n",
    "        evaluate_model(model, 'Ligue Un', 'data/ligue_un.csv', 'data/test_ligue_un.csv'),\n",
    "        evaluate_model(model, 'Ligue Un - Base', 'data/individual_teams.csv', 'data/test_ligue_un.csv'),\n",
    "        evaluate_model(model, 'Serie A', 'data/serie_a.csv', 'data/test_serie_a.csv'),\n",
    "        evaluate_model(model, 'Serie A - Base', 'data/individual_teams.csv', 'data/test_serie_a.csv'),\n",
    "    ]\n",
    "    \n",
    "    return pd.DataFrame(data, columns=[\n",
    "            'League', \n",
    "            'Misclassification', \n",
    "            'Recall', \n",
    "            'Precision', \n",
    "            'F1', \n",
    "            'TPR', \n",
    "            'FPR', \n",
    "            'TNR', \n",
    "            'FNR'\n",
    "        ])"
   ]
  },
  {
   "cell_type": "code",
   "execution_count": null,
   "metadata": {
    "collapsed": false,
    "deletable": true,
    "editable": true
   },
   "outputs": [],
   "source": [
    "model = LogisticRegression(solver='lbfgs')\n",
    "evaluate_model_by_league(model)"
   ]
  },
  {
   "cell_type": "code",
   "execution_count": null,
   "metadata": {
    "collapsed": false,
    "deletable": true,
    "editable": true
   },
   "outputs": [],
   "source": [
    "evaluate_model_by_league(RandomForestClassifier())"
   ]
  },
  {
   "cell_type": "code",
   "execution_count": null,
   "metadata": {
    "collapsed": false,
    "deletable": true,
    "editable": true
   },
   "outputs": [],
   "source": [
    "evaluate_model_by_league(DecisionTreeClassifier())"
   ]
  },
  {
   "cell_type": "code",
   "execution_count": null,
   "metadata": {
    "collapsed": false,
    "deletable": true,
    "editable": true
   },
   "outputs": [],
   "source": [
    "evaluate_model_by_league(SVC(kernel='linear'))"
   ]
  },
  {
   "cell_type": "code",
   "execution_count": null,
   "metadata": {
    "collapsed": false,
    "deletable": true,
    "editable": true,
    "scrolled": true
   },
   "outputs": [],
   "source": [
    "evaluate_model_by_league(SGDClassifier(loss='modified_huber', learning_rate='optimal', eta0=1, alpha=0.00001))"
   ]
  },
  {
   "cell_type": "code",
   "execution_count": null,
   "metadata": {
    "collapsed": false,
    "deletable": true,
    "editable": true
   },
   "outputs": [],
   "source": [
    "evaluate_model_by_league(MLPClassifier(hidden_layer_sizes=(90,), activation='logistic', max_iter=200))"
   ]
  }
 ],
 "metadata": {
  "anaconda-cloud": {},
  "kernelspec": {
   "display_name": "Python 3",
   "language": "python",
   "name": "python3"
  },
  "language_info": {
   "codemirror_mode": {
    "name": "ipython",
    "version": 3
   },
   "file_extension": ".py",
   "mimetype": "text/x-python",
   "name": "python",
   "nbconvert_exporter": "python",
   "pygments_lexer": "ipython3",
   "version": "3.4.3"
  }
 },
 "nbformat": 4,
 "nbformat_minor": 1
}
